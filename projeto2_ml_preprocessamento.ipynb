# Projeto 2: Machine Learning - Parte 1 (Escolha e Pré-processamento dos Datasets)

# Autor: Rafael Diniz
# Descrição: Este notebook realiza a escolha dos datasets dos Grupos A e B, 
# e aplica as etapas de pré-processamento necessárias para análise de classificação.

import pandas as pd
import numpy as np
import matplotlib.pyplot as plt
import seaborn as sns
from sklearn.preprocessing import StandardScaler, MinMaxScaler, OneHotEncoder
from sklearn.impute import SimpleImputer
from sklearn.decomposition import PCA
from sklearn.compose import ColumnTransformer
from sklearn.pipeline import Pipeline

# Configurações de visualização
sns.set(style="whitegrid")

# Grupo A: Taiwanese Bankruptcy Prediction
# Fonte: https://archive.ics.uci.edu/dataset/572/taiwanese+bankruptcy+prediction

# Grupo B: MiniBooNE Particle Identification
# Fonte: https://archive.ics.uci.edu/ml/datasets/MiniBooNE+particle+identification

path_a = "/content/TaiwaneseBankruptcyPrediction.csv"
path_b = "/content/MiniBooNE_PID.txt"

# Carregar Dataset do Grupo A
df_a = pd.read_csv(path_a)
print("Grupo A - Taiwanese Bankruptcy Prediction:")
display(df_a.head())

# Carregar Dataset do Grupo B
df_b = pd.read_csv(path_b, delim_whitespace=True, header=None, skiprows=1)
print("Grupo B - MiniBooNE PID:")
display(df_b.head())

# Pré-processamento do Grupo A (inclui variáveis categóricas e valores ausentes)
print("Pré-processamento - Grupo A")
df_a.dropna(inplace=True)

# Verificar tipos de dados
print(df_a.dtypes)

# Separar X e y
y_a = df_a['Bankrupt?']
X_a = df_a.drop('Bankrupt?', axis=1)

# Escalonar os dados (Padronização)
scaler_a = StandardScaler()
X_a_scaled = scaler_a.fit_transform(X_a)

# Verificar distribuição das features
pd.DataFrame(X_a_scaled, columns=X_a.columns).hist(bins=20, figsize=(15, 10))
plt.suptitle("Distribuição das Features (Grupo A)")
plt.show()

# Pré-processamento do Grupo B
print("Pré-processamento - Grupo B")

# Definição que as primeiras 36499 linhas são sinal (classe 1), o restante é background (classe 0)
n_signal = 36499
y_b = np.array([1]*n_signal + [0]*(df_b.shape[0] - n_signal))
X_b = df_b.copy()

# Padronizar os dados
temp_b = StandardScaler().fit_transform(X_b)
X_b_scaled = pd.DataFrame(temp_b, columns=[f"f{i}" for i in range(X_b.shape[1])])

# Visualização rápida
df_sampled = X_b_scaled.sample(n=1000, random_state=42)
sns.boxplot(data=df_sampled, orient="h", fliersize=1)
plt.title("Boxplot das Features (Amostra do Grupo B)")
plt.show()

print("Pré-processamento concluído.")
